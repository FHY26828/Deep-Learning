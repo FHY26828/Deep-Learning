{
 "cells": [
  {
   "cell_type": "markdown",
   "id": "1cd3a021",
   "metadata": {},
   "source": [
    "# 1.序列填充"
   ]
  },
  {
   "cell_type": "code",
   "execution_count": 10,
   "id": "a20d76c2",
   "metadata": {},
   "outputs": [
    {
     "name": "stdout",
     "output_type": "stream",
     "text": [
      "填充前序列为\n",
      " [[1], [2, 3], [4, 5, 6]]\n",
      "填充后序列为\n",
      " [[1 0 0]\n",
      " [2 3 0]\n",
      " [4 5 6]]\n"
     ]
    }
   ],
   "source": [
    "# 1.数字填充\n",
    "import tensorflow as tf  # 导入所需库\n",
    "\n",
    "s = [[1], [2, 3], [4, 5, 6]]  # 初始化填充前序列 s\n",
    "print(\"填充前序列为\\n\", s)  # 显示填充前序列 s\n",
    "\n",
    "# 填充序列并赋值给 a\n",
    "a = tf.keras.preprocessing.sequence.pad_sequences(s, padding='post')\n",
    "print(\"填充后序列为\\n\", a)  # 显示填充后序列 a\n"
   ]
  },
  {
   "cell_type": "markdown",
   "id": "bf0cc503",
   "metadata": {},
   "source": [
    "# 2.序列裁剪"
   ]
  },
  {
   "cell_type": "code",
   "execution_count": 11,
   "id": "0d2ac003",
   "metadata": {},
   "outputs": [
    {
     "name": "stdout",
     "output_type": "stream",
     "text": [
      "剪裁前序列为\n",
      " [[1, 2, 3, 9], [4, 5, 6], [7, 8], [9]]\n",
      "剪裁后序列为\n",
      " [[3 9]\n",
      " [5 6]\n",
      " [7 8]\n",
      " [0 9]]\n"
     ]
    }
   ],
   "source": [
    "import tensorflow as tf  # 导入所需库\n",
    "s = [[1, 2, 3, 9], [4, 5, 6], [7, 8]]  # 初始化剪裁前序列 s\n",
    "print(\"剪裁前序列为\\n\", s)  # 显示剪裁前序列 s\n",
    "\n",
    "# 剪裁序列并赋值给 a，\n",
    "# maxlen=2: 通过设置 maxlen 参数，将序列的长度裁剪为2。如果序列的长度超过2，则保留最后的两个元素\n",
    "a = tf.keras.preprocessing.sequence.pad_sequences(s, maxlen=2)\n",
    "print(\"剪裁后序列为\\n\", a)  # 显示剪裁后序列 a\n"
   ]
  },
  {
   "cell_type": "markdown",
   "id": "18d6c864",
   "metadata": {},
   "source": [
    "# 3.keras 搭建模型"
   ]
  },
  {
   "cell_type": "code",
   "execution_count": 3,
   "id": "41da578d",
   "metadata": {},
   "outputs": [
    {
     "name": "stdout",
     "output_type": "stream",
     "text": [
      "Model: \"sequential\"\n",
      "_________________________________________________________________\n",
      " Layer (type)                Output Shape              Param #   \n",
      "=================================================================\n",
      " embedding (Embedding)       (None, 400, 32)           3200      \n",
      "                                                                 \n",
      "=================================================================\n",
      "Total params: 3,200\n",
      "Trainable params: 3,200\n",
      "Non-trainable params: 0\n",
      "_________________________________________________________________\n",
      "embeddings矩阵=\n",
      " [array([[-0.02878962, -0.03292129,  0.04554972, ..., -0.0058917 ,\n",
      "         0.01143857,  0.0233766 ],\n",
      "       [ 0.01397041, -0.01258515,  0.00929421, ..., -0.04004631,\n",
      "         0.0135694 ,  0.0277424 ],\n",
      "       [ 0.04916861, -0.04198183, -0.04687737, ..., -0.03828448,\n",
      "         0.02139128,  0.02899126],\n",
      "       ...,\n",
      "       [-0.0321876 ,  0.0293329 ,  0.02029986, ..., -0.00899869,\n",
      "        -0.00628114, -0.02092808],\n",
      "       [-0.0257414 ,  0.03492158, -0.00921569, ..., -0.0181116 ,\n",
      "        -0.03592857,  0.02451548],\n",
      "       [ 0.04689746,  0.02985245, -0.04975928, ..., -0.02757919,\n",
      "        -0.01401014, -0.03509605]], dtype=float32)]\n",
      "1/1 [==============================] - 0s 75ms/step\n",
      "输出矩阵的形状= (1, 400, 32)\n"
     ]
    }
   ],
   "source": [
    "# 3.最常见的 100 个单词\n",
    "import tensorflow as tf  # 导入 TensorFlow 库\n",
    "import numpy as np       # 导入 NumPy 库\n",
    "\n",
    "# 构建空的网络模型 model\n",
    "model = tf.keras.Sequential()\n",
    "\n",
    "# 创建嵌入层\n",
    "embedding = tf.keras.layers.Embedding(output_dim=32, input_dim=100, input_length=400)\n",
    "model.add(embedding)  # 添加到网络模型 model 中\n",
    "\n",
    "model.summary()  # 显示网络模型的参数信息\n",
    "\n",
    "# 显示 embedding 矩阵的值\n",
    "print(\"embeddings矩阵=\\n\", embedding.get_weights())\n",
    "\n",
    "# 定义输入文本\n",
    "text = \"Deep learning is an important concept raised by the current sciences.\"\n",
    "\n",
    "# 定义分词器对象\n",
    "token = tf.keras.preprocessing.text.Tokenizer(num_words=100)\n",
    "token.fit_on_texts([text])  # 分词\n",
    "input = token.texts_to_sequences([text])  # 输出向量序列\n",
    "\n",
    "# 序列填充\n",
    "test_seq = tf.keras.preprocessing.sequence.pad_sequences(\n",
    "    input, padding='post', maxlen=400, truncating='post'\n",
    ")\n",
    "\n",
    "# 使用向量序列应用网络模型\n",
    "output_array = model.predict(test_seq)\n",
    "\n",
    "# 输出矩阵的形状\n",
    "print(\"输出矩阵的形状=\", output_array.shape)\n"
   ]
  },
  {
   "cell_type": "markdown",
   "id": "80bbdf18",
   "metadata": {},
   "source": [
    "# 4.构建 RNN 网络模型"
   ]
  },
  {
   "cell_type": "code",
   "execution_count": 4,
   "id": "2521286c",
   "metadata": {},
   "outputs": [
    {
     "name": "stdout",
     "output_type": "stream",
     "text": [
      "Model: \"sequential_1\"\n",
      "_________________________________________________________________\n",
      " Layer (type)                Output Shape              Param #   \n",
      "=================================================================\n",
      " embedding_1 (Embedding)     (None, 6, 5)              50        \n",
      "                                                                 \n",
      " simple_rnn (SimpleRNN)      (None, 128)               17152     \n",
      "                                                                 \n",
      " dense (Dense)               (None, 5)                 645       \n",
      "                                                                 \n",
      "=================================================================\n",
      "Total params: 17,847\n",
      "Trainable params: 17,847\n",
      "Non-trainable params: 0\n",
      "_________________________________________________________________\n"
     ]
    }
   ],
   "source": [
    "# 构建 RNN 网络模型\n",
    "import tensorflow as tf  # 导入所需库\n",
    "\n",
    "# 创建空的网络模型 model\n",
    "model = tf.keras.Sequential()\n",
    "\n",
    "# 创建嵌入层并添加到 model 中\n",
    "model.add(tf.keras.layers.Embedding(10, 5, input_length=6))\n",
    "\n",
    "# 创建简单循环层并添加到 model 中\n",
    "model.add(tf.keras.layers.SimpleRNN(128))\n",
    "\n",
    "# 创建全连接层作为输出层，并添加到 model 中\n",
    "model.add(tf.keras.layers.Dense(5, activation='softmax'))\n",
    "\n",
    "# 显示网络模型的参数信息\n",
    "model.summary()\n"
   ]
  },
  {
   "cell_type": "markdown",
   "id": "c0eb2de2",
   "metadata": {},
   "source": [
    "# 5.构建 LSTM 网络"
   ]
  },
  {
   "cell_type": "code",
   "execution_count": 5,
   "id": "c0ae7138",
   "metadata": {},
   "outputs": [
    {
     "name": "stdout",
     "output_type": "stream",
     "text": [
      "Model: \"sequential_2\"\n",
      "_________________________________________________________________\n",
      " Layer (type)                Output Shape              Param #   \n",
      "=================================================================\n",
      " embedding_2 (Embedding)     (None, 6, 5)              50        \n",
      "                                                                 \n",
      " lstm (LSTM)                 (None, 128)               68608     \n",
      "                                                                 \n",
      " dense_1 (Dense)             (None, 5)                 645       \n",
      "                                                                 \n",
      "=================================================================\n",
      "Total params: 69,303\n",
      "Trainable params: 69,303\n",
      "Non-trainable params: 0\n",
      "_________________________________________________________________\n"
     ]
    }
   ],
   "source": [
    "import tensorflow as tf  # 导入所需库\n",
    "\n",
    "# 创建空的网络模型 model\n",
    "model = tf.keras.Sequential()\n",
    "\n",
    "# 创建嵌入层并添加到 model 中\n",
    "model.add(tf.keras.layers.Embedding(10, 5, input_length=6))\n",
    "\n",
    "# 创建长短期记忆层（LSTM）并添加到 model 中\n",
    "model.add(tf.keras.layers.LSTM(128))\n",
    "\n",
    "# 创建全连接层作为输出层，并添加到 model 中\n",
    "model.add(tf.keras.layers.Dense(5, activation='softmax'))\n",
    "\n",
    "# 显示网络模型的参数信息\n",
    "model.summary()\n"
   ]
  }
 ],
 "metadata": {
  "kernelspec": {
   "display_name": "Python (GPU)",
   "language": "python",
   "name": "py310"
  },
  "language_info": {
   "codemirror_mode": {
    "name": "ipython",
    "version": 3
   },
   "file_extension": ".py",
   "mimetype": "text/x-python",
   "name": "python",
   "nbconvert_exporter": "python",
   "pygments_lexer": "ipython3",
   "version": "3.10.15"
  }
 },
 "nbformat": 4,
 "nbformat_minor": 5
}
