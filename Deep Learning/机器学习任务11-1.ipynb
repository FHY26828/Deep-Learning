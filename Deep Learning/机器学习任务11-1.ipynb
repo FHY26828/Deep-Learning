{
 "cells": [
  {
   "cell_type": "code",
   "execution_count": 1,
   "id": "6574d61f",
   "metadata": {},
   "outputs": [
    {
     "name": "stdout",
     "output_type": "stream",
     "text": [
      "tf.Tensor(1.0, shape=(), dtype=float64)\n",
      "tf.Tensor(2.0, shape=(), dtype=float64)\n",
      "tf.Tensor(3.0, shape=(), dtype=float64)\n",
      "tf.Tensor(4.0, shape=(), dtype=float64)\n",
      "tf.Tensor(5.0, shape=(), dtype=float64)\n"
     ]
    }
   ],
   "source": [
    "import tensorflow as tf\n",
    "import numpy as np\n",
    "\n",
    "dataset = tf.data.Dataset.from_tensor_slices(\n",
    "    np.array([1.0, 2.0, 3.0, 4.0, 5.0])\n",
    ")\n",
    "\n",
    "for element in dataset:\n",
    "    print(element)\n"
   ]
  },
  {
   "cell_type": "code",
   "execution_count": 2,
   "id": "5964114d",
   "metadata": {},
   "outputs": [
    {
     "name": "stdout",
     "output_type": "stream",
     "text": [
      "训练集: X=(60000, 28, 28), y=(60000,)\n",
      "测试集: X=(10000, 28, 28), y=(10000,)\n"
     ]
    },
    {
     "data": {
      "image/png": "[encoded data removed]",
      "text/plain": [
       "<Figure size 640x480 with 4 Axes>"
      ]
     },
     "metadata": {},
     "output_type": "display_data"
    }
   ],
   "source": [
    "from tensorflow.keras import datasets  # 导入经典数据集加载模块\n",
    "import matplotlib.pyplot as plt\n",
    "\n",
    "# 导入数据\n",
    "(X_train, y_train), (X_test, y_test) = datasets.mnist.load_data()\n",
    "\n",
    "# 总结加载的数据集\n",
    "print('训练集: X={0}, y={1}'.format(X_train.shape, y_train.shape))\n",
    "print('测试集: X={0}, y={1}'.format(X_test.shape, y_test.shape))\n",
    "\n",
    "# 绘制前4个图片\n",
    "for i in range(4):\n",
    "    # 定义子图\n",
    "    plt.subplot(2, 2, i + 1)\n",
    "    # 绘制像素数据\n",
    "    plt.title('label = {}'.format(y_train[i]))\n",
    "    plt.imshow(X_train[i], cmap=plt.get_cmap('gray_r'))\n",
    "    plt.axis('off')\n",
    "\n",
    "# 显示图片\n",
    "plt.show()\n"
   ]
  },
  {
   "cell_type": "code",
   "execution_count": 1,
   "id": "d108018a",
   "metadata": {},
   "outputs": [
    {
     "name": "stdout",
     "output_type": "stream",
     "text": [
      "Model: \"sequential\"\n",
      "_________________________________________________________________\n",
      " Layer (type)                Output Shape              Param #   \n",
      "=================================================================\n",
      " flatten (Flatten)           (None, 784)               0         \n",
      "                                                                 \n",
      " dense (Dense)               (None, 10)                7850      \n",
      "                                                                 \n",
      "=================================================================\n",
      "Total params: 7,850\n",
      "Trainable params: 7,850\n",
      "Non-trainable params: 0\n",
      "_________________________________________________________________\n"
     ]
    }
   ],
   "source": [
    "import numpy as np\n",
    "import tensorflow as tf\n",
    "from tensorflow.keras import datasets, Sequential, layers\n",
    "\n",
    "# 导入数据\n",
    "(X_train, y_train), (X_test, y_test) = datasets.mnist.load_data()\n",
    "\n",
    "# 数据预处理\n",
    "X_train = tf.convert_to_tensor(X_train, dtype=tf.float32) / 255.0\n",
    "dataset = tf.data.Dataset.from_tensor_slices((X_train, y_train))\n",
    "dataset = dataset.batch(32).repeat(10)\n",
    "\n",
    "# 构建模型\n",
    "model = Sequential()  # 搭建空顺序模型\n",
    "model.add(layers.Flatten(input_shape=(28, 28)))  # 输入层展平\n",
    "model.add(layers.Dense(10, activation='softmax'))  # 输出层，10分类\n",
    "\n",
    "model.summary()\n"
   ]
  },
  {
   "cell_type": "code",
   "execution_count": 2,
   "id": "91035a22",
   "metadata": {},
   "outputs": [
    {
     "name": "stdout",
     "output_type": "stream",
     "text": [
      "step 0, loss: 0.946, acc: 3.12 %\n",
      "step 200, loss: 0.814, acc: 27.14 %\n",
      "step 400, loss: 0.724, acc: 47.03 %\n",
      "step 600, loss: 0.534, acc: 56.72 %\n",
      "step 800, loss: 0.438, acc: 68.31 %\n",
      "step 1000, loss: 0.448, acc: 73.23 %\n",
      "step 1200, loss: 0.359, acc: 78.52 %\n",
      "step 1400, loss: 0.378, acc: 79.81 %\n",
      "step 1600, loss: 0.291, acc: 81.39 %\n",
      "step 1800, loss: 0.249, acc: 84.28 %\n",
      "step 2000, loss: 0.296, acc: 85.81 %\n",
      "step 2200, loss: 0.205, acc: 84.83 %\n",
      "step 2400, loss: 0.344, acc: 83.50 %\n",
      "step 2600, loss: 0.222, acc: 85.59 %\n",
      "step 2800, loss: 0.162, acc: 86.33 %\n",
      "step 3000, loss: 0.399, acc: 85.20 %\n",
      "step 3200, loss: 0.223, acc: 86.02 %\n",
      "step 3400, loss: 0.204, acc: 86.39 %\n",
      "step 3600, loss: 0.141, acc: 85.81 %\n",
      "step 3800, loss: 0.238, acc: 89.03 %\n",
      "step 4000, loss: 0.309, acc: 88.00 %\n",
      "step 4200, loss: 0.216, acc: 86.73 %\n",
      "step 4400, loss: 0.215, acc: 86.98 %\n",
      "step 4600, loss: 0.228, acc: 87.86 %\n",
      "step 4800, loss: 0.178, acc: 86.52 %\n",
      "step 5000, loss: 0.188, acc: 88.03 %\n",
      "step 5200, loss: 0.294, acc: 87.03 %\n",
      "step 5400, loss: 0.339, acc: 87.53 %\n",
      "step 5600, loss: 0.135, acc: 90.23 %\n",
      "step 5800, loss: 0.275, acc: 89.28 %\n",
      "step 6000, loss: 0.184, acc: 88.72 %\n",
      "step 6200, loss: 0.261, acc: 87.11 %\n",
      "step 6400, loss: 0.181, acc: 88.70 %\n",
      "step 6600, loss: 0.209, acc: 88.52 %\n",
      "step 6800, loss: 0.157, acc: 87.94 %\n",
      "step 7000, loss: 0.113, acc: 88.17 %\n",
      "step 7200, loss: 0.393, acc: 87.64 %\n",
      "step 7400, loss: 0.169, acc: 89.58 %\n",
      "step 7600, loss: 0.237, acc: 90.94 %\n",
      "step 7800, loss: 0.147, acc: 89.27 %\n",
      "step 8000, loss: 0.262, acc: 88.11 %\n",
      "step 8200, loss: 0.160, acc: 90.03 %\n",
      "step 8400, loss: 0.102, acc: 89.19 %\n",
      "step 8600, loss: 0.164, acc: 88.05 %\n",
      "step 8800, loss: 0.229, acc: 88.80 %\n",
      "step 9000, loss: 0.101, acc: 88.52 %\n",
      "step 9200, loss: 0.113, acc: 88.88 %\n",
      "step 9400, loss: 0.166, acc: 91.58 %\n",
      "step 9600, loss: 0.267, acc: 90.44 %\n",
      "step 9800, loss: 0.105, acc: 89.02 %\n",
      "step 10000, loss: 0.255, acc: 89.06 %\n",
      "step 10200, loss: 0.170, acc: 89.95 %\n",
      "step 10400, loss: 0.157, acc: 88.34 %\n",
      "step 10600, loss: 0.129, acc: 89.84 %\n",
      "step 10800, loss: 0.269, acc: 88.69 %\n",
      "step 11000, loss: 0.185, acc: 89.22 %\n",
      "step 11200, loss: 0.177, acc: 90.38 %\n",
      "step 11400, loss: 0.219, acc: 91.39 %\n",
      "step 11600, loss: 0.213, acc: 90.20 %\n",
      "step 11800, loss: 0.137, acc: 88.42 %\n",
      "step 12000, loss: 0.142, acc: 90.61 %\n",
      "step 12200, loss: 0.199, acc: 89.63 %\n",
      "step 12400, loss: 0.215, acc: 89.28 %\n",
      "step 12600, loss: 0.252, acc: 88.94 %\n",
      "step 12800, loss: 0.183, acc: 89.48 %\n",
      "step 13000, loss: 0.105, acc: 90.19 %\n",
      "step 13200, loss: 0.237, acc: 91.50 %\n",
      "step 13400, loss: 0.133, acc: 90.55 %\n",
      "step 13600, loss: 0.142, acc: 89.63 %\n",
      "step 13800, loss: 0.120, acc: 90.50 %\n",
      "step 14000, loss: 0.060, acc: 90.19 %\n",
      "step 14200, loss: 0.221, acc: 89.41 %\n",
      "step 14400, loss: 0.146, acc: 89.69 %\n",
      "step 14600, loss: 0.232, acc: 89.67 %\n",
      "step 14800, loss: 0.141, acc: 89.58 %\n",
      "step 15000, loss: 0.174, acc: 91.92 %\n",
      "step 15200, loss: 0.169, acc: 91.08 %\n",
      "step 15400, loss: 0.130, acc: 90.20 %\n",
      "step 15600, loss: 0.167, acc: 89.67 %\n",
      "step 15800, loss: 0.126, acc: 90.50 %\n",
      "step 16000, loss: 0.218, acc: 89.64 %\n",
      "step 16200, loss: 0.166, acc: 90.09 %\n",
      "step 16400, loss: 0.161, acc: 90.14 %\n",
      "step 16600, loss: 0.146, acc: 89.53 %\n",
      "step 16800, loss: 0.143, acc: 90.75 %\n",
      "step 17000, loss: 0.161, acc: 92.09 %\n",
      "step 17200, loss: 0.079, acc: 90.75 %\n",
      "step 17400, loss: 0.147, acc: 89.89 %\n",
      "step 17600, loss: 0.153, acc: 90.94 %\n",
      "step 17800, loss: 0.053, acc: 90.64 %\n",
      "step 18000, loss: 0.248, acc: 89.52 %\n",
      "step 18200, loss: 0.179, acc: 89.98 %\n",
      "step 18400, loss: 0.124, acc: 90.48 %\n",
      "step 18600, loss: 0.078, acc: 89.67 %\n",
      "Model: \"sequential_1\"\n",
      "_________________________________________________________________\n",
      " Layer (type)                Output Shape              Param #   \n",
      "=================================================================\n",
      " flatten_1 (Flatten)         (None, 784)               0         \n",
      "                                                                 \n",
      " dense_1 (Dense)             (None, 10)                7850      \n",
      "                                                                 \n",
      "=================================================================\n",
      "Total params: 7,850\n",
      "Trainable params: 7,850\n",
      "Non-trainable params: 0\n",
      "_________________________________________________________________\n"
     ]
    }
   ],
   "source": [
    "import numpy as np\n",
    "import tensorflow as tf\n",
    "from tensorflow.keras import datasets, layers, optimizers, Sequential, metrics\n",
    "\n",
    "# 导入数据\n",
    "(X_train, y_train), (X_test, y_test) = datasets.mnist.load_data()\n",
    "\n",
    "# 数据预处理\n",
    "X_train = tf.convert_to_tensor(X_train, dtype=tf.float32) / 255.0\n",
    "dataset = tf.data.Dataset.from_tensor_slices((X_train, y_train))\n",
    "dataset = dataset.batch(32).repeat(10)\n",
    "\n",
    "# 获取图片的大小\n",
    "in_shape = X_train.shape[1:]  # 形状为 (28, 28)\n",
    "# 获取类别数目\n",
    "n_classes = len(np.unique(y_train))  # 类别数为10\n",
    "\n",
    "# 构建模型\n",
    "model = Sequential()  # 搭建空顺序模型\n",
    "model.add(layers.Flatten(input_shape=in_shape))  # 展平层\n",
    "model.add(layers.Dense(n_classes, activation='softmax'))  # 输出层\n",
    "\n",
    "# 定义优化器，学习率为0.01\n",
    "optimizer = optimizers.SGD(learning_rate=0.01)\n",
    "\n",
    "# 定义累积准确率的指标\n",
    "acc_meter = metrics.Accuracy()\n",
    "\n",
    "# 开始训练\n",
    "for step, (x, y) in enumerate(dataset):\n",
    "    with tf.GradientTape() as tape:\n",
    "        # 计算模型输出\n",
    "        out = model(x)\n",
    "        # 将标签转为 one-hot 编码\n",
    "        y_onehot = tf.one_hot(y, depth=10)\n",
    "        # 计算损失\n",
    "        loss = tf.square(out - y_onehot)\n",
    "        loss = tf.reduce_sum(loss) / 32\n",
    "\n",
    "    # 更新准确率\n",
    "    acc_meter.update_state(tf.argmax(out, axis=1), y)\n",
    "    # 计算梯度并优化\n",
    "    grads = tape.gradient(loss, model.trainable_variables)\n",
    "    optimizer.apply_gradients(zip(grads, model.trainable_variables))\n",
    "\n",
    "    # 每200步打印一次日志\n",
    "    if step % 200 == 0:\n",
    "        print('step {0}, loss: {1:.3f}, acc: {2:.2f} %'.format(\n",
    "            step, float(loss), acc_meter.result().numpy() * 100))\n",
    "        acc_meter.reset_states()\n"
   ]
  },
  {
   "cell_type": "code",
   "execution_count": 4,
   "id": "e7908bad",
   "metadata": {},
   "outputs": [
    {
     "name": "stdout",
     "output_type": "stream",
     "text": [
      "Model: \"sequential_3\"\n",
      "_________________________________________________________________\n",
      " Layer (type)                Output Shape              Param #   \n",
      "=================================================================\n",
      " flatten_3 (Flatten)         (None, 784)               0         \n",
      "                                                                 \n",
      " dense_3 (Dense)             (None, 10)                7850      \n",
      "                                                                 \n",
      "=================================================================\n",
      "Total params: 7,850\n",
      "Trainable params: 7,850\n",
      "Non-trainable params: 0\n",
      "_________________________________________________________________\n"
     ]
    }
   ],
   "source": [
    "import numpy as np\n",
    "from tensorflow.keras.datasets import mnist\n",
    "import tensorflow as tf\n",
    "from tensorflow import keras\n",
    "\n",
    "# 定义预处理函数\n",
    "def preprocess(x, y):\n",
    "    # 标准化像素值到 [0, 1]\n",
    "    x = tf.cast(x, dtype=tf.float32) / 255.0\n",
    "    x = tf.reshape(x, [-1, 28, 28])  # 调整形状\n",
    "    y = tf.cast(y, dtype=tf.int32)  # 转换标签为整数\n",
    "    y = tf.one_hot(y, depth=10)  # 转为 one-hot 编码\n",
    "    # 返回预处理后的 x 和 y\n",
    "    return x, y\n",
    "\n",
    "# 加载数据\n",
    "(X_train, y_train), (X_test, y_test) = mnist.load_data()\n",
    "\n",
    "# 获取图片的大小\n",
    "in_shape = X_train.shape[1:]  # 形状为 (28, 28)\n",
    "# 获取类别的个数\n",
    "n_classes = len(np.unique(y_train))  # 类别数为10\n",
    "\n",
    "# 数据预处理\n",
    "X_train = X_train.astype('float32') / 255.0\n",
    "X_test = X_test.astype('float32') / 255.0\n",
    "\n",
    "# 构建模型\n",
    "model = keras.Sequential()\n",
    "model.add(keras.layers.Flatten(input_shape=in_shape))  # 展平层\n",
    "model.add(keras.layers.Dense(n_classes, activation='softmax'))  # 输出层\n",
    "\n",
    "# 编译模型：定义优化器、损失函数和评价指标\n",
    "model.compile(\n",
    "    optimizer='adam',\n",
    "    loss='sparse_categorical_crossentropy',\n",
    "    metrics=['accuracy']\n",
    ")\n",
    "\n",
    "model.summary()\n"
   ]
  },
  {
   "cell_type": "code",
   "execution_count": 10,
   "id": "8d231661",
   "metadata": {},
   "outputs": [
    {
     "name": "stdout",
     "output_type": "stream",
     "text": [
      "测试集的预测准确率: 0.928\n",
      "1/1 [==============================] - 0s 20ms/step\n",
      "预测的数字为: 5\n"
     ]
    },
    {
     "data": {
      "image/png": "[encoded data removed]",
      "text/plain": [
       "<Figure size 640x480 with 1 Axes>"
      ]
     },
     "metadata": {},
     "output_type": "display_data"
    }
   ],
   "source": [
    "# 模型拟合\n",
    "model.fit(X_train, y_train, epochs=10, batch_size=128, verbose=0)\n",
    "\n",
    "# 评估模型\n",
    "loss, acc = model.evaluate(X_test, y_test, verbose=0)\n",
    "print('测试集的预测准确率: {0:.3f}'.format(acc))\n",
    "\n",
    "# 单个图片预测\n",
    "image = X_train[100]  # 选择第101张图片做测试\n",
    "import tensorflow as tf\n",
    "image = tf.expand_dims(image, axis=0)  # 扩展维度\n",
    "\n",
    "yhat = model.predict([image])  # 预测\n",
    "print('预测的数字为: {0}'.format(np.argmax(yhat)))\n",
    "\n",
    "# 绘制像素数据\n",
    "import matplotlib.pyplot as plt\n",
    "plt.title('label = {}'.format(y_train[100]))\n",
    "plt.imshow(X_train[100], cmap=plt.get_cmap('gray'))  # 灰度显示\n",
    "# plt.axis('off')  # 关闭坐标轴\n",
    "\n",
    "# 显示图片\n",
    "plt.show()\n"
   ]
  },
  {
   "cell_type": "code",
   "execution_count": 7,
   "id": "98d9d3af",
   "metadata": {},
   "outputs": [
    {
     "name": "stdout",
     "output_type": "stream",
     "text": [
      "成功：将模型保存本地！\n"
     ]
    }
   ],
   "source": [
    "# 将模型结构序列化为JSON格式\n",
    "model_json = model.to_json()\n",
    "with open(\"model.json\", \"w\") as json_file:\n",
    "    json_file.write(model_json)\n",
    "\n",
    "# 将模型权值序列化为HDF5格式\n",
    "model.save_weights(\"model.h5\")\n",
    "print(\"成功：将模型保存本地！\")\n"
   ]
  },
  {
   "cell_type": "code",
   "execution_count": 13,
   "id": "b716ea00",
   "metadata": {},
   "outputs": [
    {
     "name": "stdout",
     "output_type": "stream",
     "text": [
      "成功：从本地文件中导入权值参数！\n",
      "测试集合的预测准确率: 92.80 %\n"
     ]
    }
   ],
   "source": [
    "# 读取模型文件\n",
    "json_file = open('model.json', 'r')\n",
    "loaded_model_json = json_file.read()\n",
    "json_file.close()\n",
    "\n",
    "# 反序列化：导入模型结构\n",
    "from tensorflow.keras.models import model_from_json\n",
    "loaded_model = model_from_json(loaded_model_json)\n",
    "\n",
    "# 反序列化：将权值导入到加载的模型中\n",
    "loaded_model.load_weights(\"model.h5\")\n",
    "print(\"成功：从本地文件中导入权值参数！\")\n",
    "\n",
    "# 编译导入的模型\n",
    "loaded_model.compile(\n",
    "    optimizer='adam',\n",
    "    loss='sparse_categorical_crossentropy',\n",
    "    metrics=['accuracy']\n",
    ")\n",
    "\n",
    "# 测试模型是否可用\n",
    "loss, acc = loaded_model.evaluate(X_test, y_test, verbose=0)\n",
    "print('测试集合的预测准确率: {0:.2f} %'.format(acc * 100))\n"
   ]
  },
  {
   "cell_type": "code",
   "execution_count": null,
   "id": "15b8892b",
   "metadata": {},
   "outputs": [],
   "source": []
  }
 ],
 "metadata": {
  "kernelspec": {
   "display_name": "Python (GPU)",
   "language": "python",
   "name": "py310"
  },
  "language_info": {
   "codemirror_mode": {
    "name": "ipython",
    "version": 3
   },
   "file_extension": ".py",
   "mimetype": "text/x-python",
   "name": "python",
   "nbconvert_exporter": "python",
   "pygments_lexer": "ipython3",
   "version": "3.10.15"
  }
 },
 "nbformat": 4,
 "nbformat_minor": 5
}
